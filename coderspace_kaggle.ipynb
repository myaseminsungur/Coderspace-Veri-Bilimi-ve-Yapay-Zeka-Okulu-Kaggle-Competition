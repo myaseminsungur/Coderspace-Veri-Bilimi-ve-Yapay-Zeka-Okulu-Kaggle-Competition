{
 "cells": [
  {
   "cell_type": "markdown",
   "id": "a363f07a",
   "metadata": {},
   "source": [
    "# Setup and Imports"
   ]
  },
  {
   "cell_type": "code",
   "execution_count": null,
   "id": "edad6a15-8d0e-4060-b486-5109748d9f4c",
   "metadata": {},
   "outputs": [],
   "source": [
    "import pandas as pd\n",
    "import numpy as np\n",
    "import matplotlib.pyplot as plt\n",
    "import seaborn as sns\n",
    "from sklearn.model_selection import train_test_split"
   ]
  },
  {
   "cell_type": "markdown",
   "id": "d21273f1",
   "metadata": {},
   "source": [
    "# Data Loading and Initial Exploration"
   ]
  },
  {
   "cell_type": "markdown",
   "id": "9d116588",
   "metadata": {},
   "source": [
    "## Load Data"
   ]
  },
  {
   "cell_type": "code",
   "execution_count": null,
   "id": "348c2d8f-fd14-4937-9765-b0e330d3c7eb",
   "metadata": {},
   "outputs": [],
   "source": [
    "df = pd.read_csv('train.csv')"
   ]
  },
  {
   "cell_type": "markdown",
   "id": "751d8eb8",
   "metadata": {},
   "source": [
    "## Preview Data"
   ]
  },
  {
   "cell_type": "code",
   "execution_count": null,
   "id": "592a022b-a43b-48de-a11c-8fa9c2779112",
   "metadata": {},
   "outputs": [],
   "source": [
    "df.head()"
   ]
  },
  {
   "cell_type": "markdown",
   "id": "bc01e635-a55d-44ea-94ad-cc11d823dfc1",
   "metadata": {},
   "source": [
    "## Basic Information"
   ]
  },
  {
   "cell_type": "code",
   "execution_count": null,
   "id": "06fd1aa1-df18-4aab-b3f2-68e5383f9ff3",
   "metadata": {},
   "outputs": [],
   "source": [
    "df.shape"
   ]
  },
  {
   "cell_type": "code",
   "execution_count": null,
   "id": "040b020d-afd3-4527-81b6-cb7f947d4cd6",
   "metadata": {},
   "outputs": [],
   "source": [
    "df.describe()"
   ]
  },
  {
   "cell_type": "code",
   "execution_count": null,
   "id": "7b28b32f-5df8-4ac7-bb76-43f3ce2389ad",
   "metadata": {},
   "outputs": [],
   "source": [
    "df.info()"
   ]
  },
  {
   "cell_type": "markdown",
   "id": "c861d162",
   "metadata": {},
   "source": [
    "# Exploratory Data Analysis (EDA)"
   ]
  },
  {
   "cell_type": "markdown",
   "id": "ee90c7c2",
   "metadata": {},
   "source": [
    "## Correlation Analysis"
   ]
  },
  {
   "cell_type": "code",
   "execution_count": null,
   "id": "637f2d9d-ff65-4903-a22d-930eaf8a7443",
   "metadata": {},
   "outputs": [],
   "source": [
    "# https://seaborn.pydata.org/examples/many_pairwise_correlations.html\n",
    "corr = df.corr(numeric_only=True)\n",
    "mask = np.triu(np.ones_like(corr, dtype=bool))\n",
    "f, ax = plt.subplots(figsize=(15, 13))\n",
    "cmap = sns.diverging_palette(230, 20, as_cmap=True)\n",
    "_ = sns.heatmap(corr, mask=mask, cmap=cmap, vmax=.3, center=0,\n",
    "            square=True, linewidths=.5, cbar_kws={\"shrink\": .5})"
   ]
  },
  {
   "cell_type": "markdown",
   "id": "90e9d5c8-d557-47f5-9b33-2cd819438d1b",
   "metadata": {},
   "source": [
    "## Data Cleaning"
   ]
  },
  {
   "cell_type": "code",
   "execution_count": null,
   "id": "4172e111-338d-405e-bb5e-bcd98a97e03f",
   "metadata": {},
   "outputs": [],
   "source": [
    "df.select_dtypes(include='object').head()"
   ]
  },
  {
   "cell_type": "markdown",
   "id": "e7729bf0-e054-49ef-94fa-6b338cfc30c0",
   "metadata": {},
   "source": [
    "### Caps / Goals Column Seperation"
   ]
  },
  {
   "cell_type": "code",
   "execution_count": null,
   "id": "ed9d3c85-217a-45be-a201-f62190fbab88",
   "metadata": {},
   "outputs": [],
   "source": [
    "df['Caps / Goals'].fillna('0 / 0', inplace=True)"
   ]
  },
  {
   "cell_type": "code",
   "execution_count": null,
   "id": "bc7c2508-b44d-4613-83b2-d3f8ce369206",
   "metadata": {},
   "outputs": [],
   "source": [
    "df['Caps'] = df['Caps / Goals'].str.split('/').apply(lambda x: int(x[0]))"
   ]
  },
  {
   "cell_type": "code",
   "execution_count": null,
   "id": "0f041e68-abb7-4587-8c24-c7db7329f7ec",
   "metadata": {},
   "outputs": [],
   "source": [
    "df['Goals'] = df['Caps / Goals'].str.split('/').apply(lambda x: int(x[1]))"
   ]
  },
  {
   "cell_type": "code",
   "execution_count": null,
   "id": "6096bd8d-0c7e-4e51-a790-9ea081b24e20",
   "metadata": {},
   "outputs": [],
   "source": [
    "del df['Caps / Goals']"
   ]
  },
  {
   "cell_type": "markdown",
   "id": "54883776",
   "metadata": {},
   "source": [
    "### Height and Weight Columns' Conversion to Integer"
   ]
  },
  {
   "cell_type": "code",
   "execution_count": null,
   "id": "c2becb3c-2a8b-4f54-9f4f-f982dbf091f9",
   "metadata": {},
   "outputs": [],
   "source": [
    "df['Height'] = df['Height'].replace('CM', '', regex=True).astype(int)"
   ]
  },
  {
   "cell_type": "code",
   "execution_count": null,
   "id": "11a7c745-5820-4e08-ab02-ec41685b2789",
   "metadata": {},
   "outputs": [],
   "source": [
    "df['Weight'] = df['Weight'].replace('KG', '', regex=True).astype(int)"
   ]
  },
  {
   "cell_type": "markdown",
   "id": "672aa8d3-a39f-4da4-a27d-235b0e38f3f0",
   "metadata": {},
   "source": [
    "### Foot Column is Made Numeric"
   ]
  },
  {
   "cell_type": "code",
   "execution_count": null,
   "id": "9b5c1188-39f7-4f8b-ae57-871a5661387a",
   "metadata": {},
   "outputs": [],
   "source": [
    "df['Foot'].value_counts()"
   ]
  },
  {
   "cell_type": "code",
   "execution_count": null,
   "id": "c3151090-cf0a-4e15-b52e-0de90de81713",
   "metadata": {},
   "outputs": [],
   "source": [
    "df['Foot'] = df['Foot'].map({'Left': 0, 'Right': 1})"
   ]
  },
  {
   "cell_type": "markdown",
   "id": "b14733dc-a341-43d6-8a25-e46f2302d393",
   "metadata": {},
   "source": [
    "### Position Column is OneHotEncoded"
   ]
  },
  {
   "cell_type": "code",
   "execution_count": null,
   "id": "2e00f4e6-f664-45cd-90b2-e4a53927bd23",
   "metadata": {},
   "outputs": [],
   "source": [
    "positions = []"
   ]
  },
  {
   "cell_type": "code",
   "execution_count": null,
   "id": "393625d2-33bb-4b58-a2d2-7f4dc009d5e6",
   "metadata": {},
   "outputs": [],
   "source": [
    "for x in df['Positions'].str.split().values:\n",
    "    positions.extend(x)"
   ]
  },
  {
   "cell_type": "code",
   "execution_count": null,
   "id": "143fece8-e7fa-438b-8090-349947ffc086",
   "metadata": {},
   "outputs": [],
   "source": [
    "unique_positions = list(set(positions))"
   ]
  },
  {
   "cell_type": "code",
   "execution_count": null,
   "id": "9c97e4fd-d82b-4877-b177-1e4cfffd9e35",
   "metadata": {},
   "outputs": [],
   "source": [
    "unique_positions"
   ]
  },
  {
   "cell_type": "code",
   "execution_count": null,
   "id": "557ece57-dbaa-4e2a-9538-92f6b91afecd",
   "metadata": {},
   "outputs": [],
   "source": [
    "position_matrix = []"
   ]
  },
  {
   "cell_type": "code",
   "execution_count": null,
   "id": "e7a42f0e-cf7d-40f3-8ab5-abee44df60c4",
   "metadata": {},
   "outputs": [],
   "source": [
    "for row in df.iterrows():\n",
    "    row_positions = row[1]['Positions'].split()\n",
    "    dict_positions = {x:0 for x in unique_positions}\n",
    "    for position in row_positions:\n",
    "        dict_positions[position] += 1\n",
    "        position_matrix.append({row[1]['id']: dict_positions})"
   ]
  },
  {
   "cell_type": "code",
   "execution_count": null,
   "id": "9afbcb01-9f72-4bd7-87f5-d60eda4a5325",
   "metadata": {},
   "outputs": [],
   "source": [
    "flattened_data = []\n",
    "\n",
    "for item in position_matrix:\n",
    "    for id_value, attributes in item.items():\n",
    "        row = {'id': id_value}\n",
    "        row.update(attributes)\n",
    "        flattened_data.append(row)\n",
    "\n",
    "positions_df = pd.DataFrame(flattened_data)"
   ]
  },
  {
   "cell_type": "code",
   "execution_count": null,
   "id": "fa311599-62dd-4f99-8748-00a1f8cfeb17",
   "metadata": {},
   "outputs": [],
   "source": [
    "positions_df = positions_df.drop_duplicates()"
   ]
  },
  {
   "cell_type": "code",
   "execution_count": null,
   "id": "20d2dba3-b0db-4745-8dc0-5f85f03084f1",
   "metadata": {},
   "outputs": [],
   "source": [
    "df = df.merge(positions_df, on='id', how='left')"
   ]
  },
  {
   "cell_type": "code",
   "execution_count": null,
   "id": "84a8cb62-f5a8-4beb-a4f5-6a643cc5a086",
   "metadata": {},
   "outputs": [],
   "source": [
    "df = df.drop(columns=['Positions'])"
   ]
  },
  {
   "cell_type": "markdown",
   "id": "e5286890-0263-4790-b407-6776e138d466",
   "metadata": {},
   "source": [
    "### Filling Null Values with 0"
   ]
  },
  {
   "cell_type": "code",
   "execution_count": null,
   "id": "552950c4-5599-44dc-8dc1-6bf8d63a7d00",
   "metadata": {},
   "outputs": [],
   "source": [
    "df = df.fillna(0)"
   ]
  },
  {
   "cell_type": "code",
   "execution_count": null,
   "id": "a539cf15-7184-49be-99d6-c670c9245401",
   "metadata": {},
   "outputs": [],
   "source": [
    "df.head()"
   ]
  },
  {
   "cell_type": "code",
   "execution_count": null,
   "id": "fd5e9126-08e5-40cb-be13-d0bfb974759c",
   "metadata": {},
   "outputs": [],
   "source": [
    "df.info()"
   ]
  },
  {
   "cell_type": "markdown",
   "id": "b827c86a-eee0-4c8f-a561-041b9c5bfa85",
   "metadata": {},
   "source": [
    "# Model Development"
   ]
  },
  {
   "cell_type": "markdown",
   "id": "fc95ad2c-7e4b-4640-a73e-ef64a8ad2f7d",
   "metadata": {},
   "source": [
    "## Undersampling"
   ]
  },
  {
   "cell_type": "code",
   "execution_count": null,
   "id": "ecbd9172-217e-478f-9328-91409448b504",
   "metadata": {},
   "outputs": [],
   "source": [
    "df.value_increased.value_counts(normalize=True)"
   ]
  },
  {
   "cell_type": "markdown",
   "id": "b986b768-b2d3-4348-9fc8-6e1fdf5d04b0",
   "metadata": {},
   "source": [
    "### Train and Test Split"
   ]
  },
  {
   "cell_type": "code",
   "execution_count": null,
   "id": "58a7ab47-c0dc-46c7-a822-e8de019b9428",
   "metadata": {},
   "outputs": [],
   "source": [
    "X = df.drop(columns = ['id', 'value_increased'])\n",
    "y = df['value_increased'].astype(int)"
   ]
  },
  {
   "cell_type": "code",
   "execution_count": null,
   "id": "ef010c78-e94e-4606-86da-b3257a58afda",
   "metadata": {},
   "outputs": [],
   "source": [
    "X_train, X_test, y_train, y_test = train_test_split(\n",
    "    X, y,stratify=y, test_size=0.3, random_state=42)"
   ]
  },
  {
   "cell_type": "code",
   "execution_count": null,
   "id": "fc50ddf8-a60f-4a2c-85d6-f9b832c23142",
   "metadata": {},
   "outputs": [],
   "source": [
    "X_train.head()"
   ]
  },
  {
   "cell_type": "code",
   "execution_count": null,
   "id": "0e3ef5b6-6fa0-47a6-805a-7d6b723601f4",
   "metadata": {},
   "outputs": [],
   "source": [
    "y_train.head()"
   ]
  },
  {
   "cell_type": "markdown",
   "id": "895af9fc-ca1d-4458-95d5-b2ff3464f814",
   "metadata": {},
   "source": [
    "## XGBoost"
   ]
  },
  {
   "cell_type": "code",
   "execution_count": null,
   "id": "2df7892e-7d71-41b0-99a9-6350c77d6068",
   "metadata": {},
   "outputs": [],
   "source": [
    "import xgboost as xgb\n",
    "\n",
    "# Use \"hist\" for constructing the trees, with early stopping enabled.\n",
    "clf = xgb.XGBClassifier(tree_method=\"hist\", scale_pos_weight=9, early_stopping_rounds = 2,)\n",
    "# Fit the model, test sets are used for early stopping.\n",
    "clf.fit(X_train, y_train, eval_set=[(X_test, y_test)])\n",
    "# Save model into JSON format.\n",
    "clf.save_model(\"clf.json\")"
   ]
  },
  {
   "cell_type": "markdown",
   "id": "b2a92f1b-7a5d-498d-9a1b-c0f57190d9b6",
   "metadata": {},
   "source": [
    "## Classification Report"
   ]
  },
  {
   "cell_type": "code",
   "execution_count": null,
   "id": "00741469-a61d-417c-972e-ca1d2c773b4d",
   "metadata": {},
   "outputs": [],
   "source": [
    "from sklearn.metrics import classification_report\n",
    "\n",
    "y_pred = clf.predict(X_test)\n",
    "\n",
    "print(classification_report(y_test, y_pred))"
   ]
  },
  {
   "cell_type": "code",
   "execution_count": null,
   "id": "8ac76dc0-b7d3-40ce-940e-2884fedd43e2",
   "metadata": {},
   "outputs": [],
   "source": [
    "y_pred"
   ]
  },
  {
   "cell_type": "markdown",
   "id": "da9a5fce-7dd5-468f-ab60-fec8964a1c0d",
   "metadata": {},
   "source": [
    "## Preprocess Pipeline Preparation"
   ]
  },
  {
   "cell_type": "code",
   "execution_count": null,
   "id": "eabc2cc2-74ab-4d17-b5d5-4f8367fe0928",
   "metadata": {},
   "outputs": [],
   "source": [
    "def prep_pipe(data):\n",
    "    df = data.copy()\n",
    "    df['Caps / Goals'].fillna('0 / 0', inplace=True)\n",
    "    df['Caps'] = df['Caps / Goals'].str.split('/').apply(lambda x: int(x[0]))\n",
    "    df['Goals'] = df['Caps / Goals'].str.split('/').apply(lambda x: int(x[1]))\n",
    "    del df['Caps / Goals']\n",
    "    df['Height'] = df['Height'].replace('CM', '', regex=True).astype(int)\n",
    "    df['Weight'] = df['Weight'].replace('KG', '', regex=True).astype(int)\n",
    "    df['Foot'] = df['Foot'].map({'Left': 0, 'Right': 1})\n",
    "    \n",
    "    position_matrix = []\n",
    "    for row in df.iterrows():\n",
    "        row_positions = row[1]['Positions'].split()\n",
    "        dict_positions = {x:0 for x in unique_positions}\n",
    "        for position in row_positions:\n",
    "            dict_positions[position] += 1\n",
    "            position_matrix.append({row[1]['id']: dict_positions})\n",
    "   \n",
    "    flattened_data = []\n",
    "\n",
    "    for item in position_matrix:\n",
    "        for id_value, attributes in item.items():\n",
    "            row = {'id': id_value}\n",
    "            row.update(attributes)\n",
    "            flattened_data.append(row)\n",
    "\n",
    "    positions_df = pd.DataFrame(flattened_data)\n",
    "    \n",
    "    positions_df = positions_df.drop_duplicates()\n",
    "\n",
    "    df = df.merge(positions_df, on='id', how='left')\n",
    "\n",
    "    df = df.drop(columns=['Positions', 'id'])    \n",
    "    \n",
    "    df = df.fillna(0)\n",
    "\n",
    "    return df"
   ]
  },
  {
   "cell_type": "markdown",
   "id": "780e9557-524b-4272-8973-23aeccbc4151",
   "metadata": {},
   "source": [
    "## Test Datasının Hazırlanması"
   ]
  },
  {
   "cell_type": "code",
   "execution_count": null,
   "id": "587a19ed-118d-4cd4-be1c-4408e17397e1",
   "metadata": {},
   "outputs": [],
   "source": [
    "test_df = pd.read_csv('test.csv')"
   ]
  },
  {
   "cell_type": "code",
   "execution_count": null,
   "id": "7b983954-fad1-43ca-93eb-3bb0cffe2f6a",
   "metadata": {},
   "outputs": [],
   "source": [
    "test_df.head()"
   ]
  },
  {
   "cell_type": "code",
   "execution_count": null,
   "id": "b82ba742-afe7-4df2-a24e-3dd22adf3e15",
   "metadata": {},
   "outputs": [],
   "source": [
    "test_df = prep_pipe(test_df)"
   ]
  },
  {
   "cell_type": "code",
   "execution_count": null,
   "id": "ae7689fe-b2d8-4cc4-82c4-8b7541ea3814",
   "metadata": {},
   "outputs": [],
   "source": [
    "## PyCaret\n",
    "\n",
    "from pycaret.classification import ClassificationExperiment\n",
    "data = df.drop(columns=['id'])\n",
    "s = ClassificationExperiment()\n",
    "s.setup(data, target = 'value_increased',session_id = 123)"
   ]
  },
  {
   "cell_type": "code",
   "execution_count": null,
   "id": "b5c51be5-e1c8-46cb-aaea-fc542fdf0854",
   "metadata": {},
   "outputs": [],
   "source": [
    "best = s.compare_models(n_select=16,sort='f1')"
   ]
  },
  {
   "cell_type": "code",
   "execution_count": null,
   "id": "4045a73c-162a-400d-bca6-53ee9fad0dc3",
   "metadata": {},
   "outputs": [],
   "source": [
    "best = best[1]"
   ]
  },
  {
   "cell_type": "markdown",
   "id": "957f5f61",
   "metadata": {},
   "source": [
    "## Model Tuning"
   ]
  },
  {
   "cell_type": "code",
   "execution_count": null,
   "id": "941ae7d3-1ba4-4ed0-932a-9b7b8a4aced3",
   "metadata": {},
   "outputs": [],
   "source": [
    "tuned_model = s.tune_model(best,optimize='f1')"
   ]
  },
  {
   "cell_type": "markdown",
   "id": "fc6a980a",
   "metadata": {},
   "source": [
    "## Model Finalization"
   ]
  },
  {
   "cell_type": "code",
   "execution_count": null,
   "id": "fbf7a0cc-fa59-4607-8638-6d28007bc6ff",
   "metadata": {},
   "outputs": [],
   "source": [
    "final_model = s.finalize_model(best)"
   ]
  }
 ],
 "metadata": {
  "kernelspec": {
   "display_name": "btk2",
   "language": "python",
   "name": "python3"
  },
  "language_info": {
   "codemirror_mode": {
    "name": "ipython",
    "version": 3
   },
   "file_extension": ".py",
   "mimetype": "text/x-python",
   "name": "python",
   "nbconvert_exporter": "python",
   "pygments_lexer": "ipython3",
   "version": "3.9.18"
  }
 },
 "nbformat": 4,
 "nbformat_minor": 5
}
